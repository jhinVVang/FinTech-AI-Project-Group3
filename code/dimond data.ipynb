{
 "cells": [
  {
   "cell_type": "code",
   "execution_count": 1,
   "id": "b77f59d2",
   "metadata": {},
   "outputs": [],
   "source": [
    "import requests\n",
    "from bs4 import BeautifulSoup\n",
    " \n",
    "url = 'https://dy-jewelry.com/gia.php'\n",
    "response = requests.get(url=url)\n",
    " \n",
    "soup = BeautifulSoup(response.text, 'html.parser')\n"
   ]
  },
  {
   "cell_type": "code",
   "execution_count": 78,
   "id": "18d1e934",
   "metadata": {},
   "outputs": [],
   "source": [
    "gcarat = []\n",
    "gcarat1 = soup.find_all('td', class_='gia-carat')\n",
    "for gia_carat in gcarat1:\n",
    "    gcarat.append(gia_carat.text)\n",
    "\n",
    "gcolor = []    \n",
    "gcolor1 = soup.find_all('td', class_='gia-color')\n",
    "for gia_color in gcolor1:\n",
    "    gcolor.append(gia_color.text)\n",
    "\n",
    "gclarity = []\n",
    "gclarity1 = soup.find_all('td', class_='gia-clarity')\n",
    "for gia_clarity in gclarity1:\n",
    "    gclarity.append(gia_clarity.text)\n",
    "    \n",
    "gdmh = []\n",
    "gdmh1 = soup.find_all('td', class_='gia-depth m-hide')\n",
    "for gia_depth_m_hide in gdmh1:\n",
    "    gdmh.append(gia_depth_m_hide.text)\n",
    "\n",
    "gtmh = []\n",
    "gtmh1 = soup.find_all('td', class_='gia-table m-hide')\n",
    "for gia_table_m_hide in gtmh1:\n",
    "    gtmh.append(gia_table_m_hide.text)\n",
    "\n",
    "gcmh = []\n",
    "gcmh1 = soup.find_all('td', 'gia-polish m-hide')\n",
    "for gia_cut_m_hide in gcmh1:\n",
    "    gcmh.append(gia_cut_m_hide.find('a').text)\n",
    "    \n",
    "\n",
    "gpmh = []\n",
    "gpmh1 = soup.find_all('td', 'gia-polish m-hide')\n",
    "for gia_polish_m_hide in gpmh1:\n",
    "    gpmh.append(gia_polish_m_hide.find('a').text)\n",
    "\n",
    "gsmh = []    \n",
    "gsmh1 = soup.find_all('td', 'gia-polish m-hide')\n",
    "for gia_sym_m_hide in gsmh1:\n",
    "    gsmh.append(gia_sym_m_hide.find('a').text)\n",
    "\n",
    "gfmh = []\n",
    "gfmh1 = soup.find_all('td', class_='gia-flourescence m-hide')\n",
    "for gia_flourescence_m_hide in gfmh1:\n",
    "    gfmh.append(gia_flourescence_m_hide.text)\n",
    "\n",
    "ghmh = []\n",
    "ghmh1 = soup.find_all('td', class_='gia-heart m-hide')\n",
    "for gia_heart_m_hide in ghmh1:\n",
    "    ghmh.append(gia_heart_m_hide.text)\n",
    "\n",
    "gstate = []\n",
    "gstate1 = soup.find_all('td', class_='gia-state m-hide')\n",
    "for gia_state_m_hid in gstate1:\n",
    "    gstate.append(gia_state_m_hid.text)"
   ]
  },
  {
   "cell_type": "code",
   "execution_count": 79,
   "id": "2d0ceaf4",
   "metadata": {},
   "outputs": [
    {
     "name": "stdout",
     "output_type": "stream",
     "text": [
      "['0.40', '0.55', '0.85', '1.08', '1.16', '1.20', '1.82', '2.07', '2.51', '3.12', '3.52', '4.34', '5.27', '6.12', '9.18', '17.44', '24.88', '0.30', '0.30', '0.30']\n"
     ]
    }
   ],
   "source": [
    "print(gcarat)"
   ]
  },
  {
   "cell_type": "code",
   "execution_count": 80,
   "id": "b9b85a59",
   "metadata": {},
   "outputs": [
    {
     "name": "stdout",
     "output_type": "stream",
     "text": [
      "['D', 'D', 'D', 'D', 'D', 'D', 'D', 'D', 'D', 'D', 'D', 'D', 'D', 'D', 'D', 'D', 'D', 'D', 'D', 'D']\n"
     ]
    }
   ],
   "source": [
    "print(gcolor)"
   ]
  },
  {
   "cell_type": "code",
   "execution_count": 81,
   "id": "e385156c",
   "metadata": {},
   "outputs": [
    {
     "name": "stdout",
     "output_type": "stream",
     "text": [
      "['FL', 'FL', 'FL', 'FL', 'FL', 'FL', 'FL', 'FL', 'FL', 'FL', 'FL', 'FL', 'FL', 'FL', 'FL', 'FL', 'FL', 'IF', 'IF', 'IF']\n"
     ]
    }
   ],
   "source": [
    "print(gclarity)"
   ]
  },
  {
   "cell_type": "code",
   "execution_count": 82,
   "id": "f34b1fa2",
   "metadata": {},
   "outputs": [
    {
     "name": "stdout",
     "output_type": "stream",
     "text": [
      "['61.6', '62.4', '62.3', '60.4', '62.7', '61.6', '62.5', '62.4', '61.8', '61.7', '61.9', '59.6', '61.5', '62.6', '61.1', '61.3', '61.6', '60.8', '62.1', '61.9']\n"
     ]
    }
   ],
   "source": [
    "print(gdmh)"
   ]
  },
  {
   "cell_type": "code",
   "execution_count": 83,
   "id": "6a811133",
   "metadata": {},
   "outputs": [
    {
     "name": "stdout",
     "output_type": "stream",
     "text": [
      "['58', '57', '57', '58', '57', '57', '56', '57', '58', '58', '57', '58', '58', '57', '57', '57', '57', '58', '55', '57']\n"
     ]
    }
   ],
   "source": [
    "print(gtmh)"
   ]
  },
  {
   "cell_type": "code",
   "execution_count": 84,
   "id": "94f8a6da",
   "metadata": {},
   "outputs": [
    {
     "name": "stdout",
     "output_type": "stream",
     "text": [
      "['EX', 'EX', 'EX', 'EX', 'EX', 'EX', 'EX', 'EX', 'EX', 'EX', 'EX', 'EX', 'EX', 'EX', 'EX', 'EX', 'EX', 'EX', 'EX', 'EX']\n"
     ]
    }
   ],
   "source": [
    "print(gcmh)"
   ]
  },
  {
   "cell_type": "code",
   "execution_count": 85,
   "id": "ebb4f56e",
   "metadata": {},
   "outputs": [
    {
     "name": "stdout",
     "output_type": "stream",
     "text": [
      "['EX', 'EX', 'EX', 'EX', 'EX', 'EX', 'EX', 'EX', 'EX', 'EX', 'EX', 'EX', 'EX', 'EX', 'EX', 'EX', 'EX', 'EX', 'EX', 'EX']\n"
     ]
    }
   ],
   "source": [
    "print(gpmh)"
   ]
  },
  {
   "cell_type": "code",
   "execution_count": 142,
   "id": "b651d33e",
   "metadata": {},
   "outputs": [
    {
     "name": "stdout",
     "output_type": "stream",
     "text": [
      "['EX', 'EX', 'EX', 'EX', 'EX', 'EX', 'EX', 'EX', 'EX', 'EX', 'EX', 'EX', 'EX', 'EX', 'EX', 'EX', 'EX', 'EX', 'EX', 'EX']\n"
     ]
    }
   ],
   "source": [
    "print(gsmh)"
   ]
  },
  {
   "cell_type": "code",
   "execution_count": 87,
   "id": "191c99c4",
   "metadata": {},
   "outputs": [
    {
     "name": "stdout",
     "output_type": "stream",
     "text": [
      "['NONE', 'NONE', 'NONE', 'NONE', 'NONE', 'NONE', 'NONE', 'NONE', 'NONE', 'NONE', 'NONE', 'NONE', 'NONE', 'NONE', 'NONE', 'NONE', 'NONE', 'NONE', 'NONE', 'NONE']\n"
     ]
    }
   ],
   "source": [
    "print(gfmh)"
   ]
  },
  {
   "cell_type": "code",
   "execution_count": 122,
   "id": "b9a81a0f",
   "metadata": {},
   "outputs": [
    {
     "name": "stdout",
     "output_type": "stream",
     "text": [
      "['\\nH&A\\n\\n\\n\\n', '\\nH&A\\n\\n\\n\\n', '\\nH&A\\n\\n\\n\\n', '\\nH&A\\n\\n\\n\\n', '\\nH&A\\n\\n\\n\\n', '\\nH&A\\n\\n\\n\\n', '\\nH&A\\n\\n\\n\\n', '\\nH&A\\n\\n\\n\\n', '\\nH&A\\n\\n\\n\\n', '\\nH&A\\n\\n\\n\\n', '\\nH&A\\n\\n\\n\\n', '\\nH&A\\n\\n\\n\\n', '\\nH&A\\n\\n\\n\\n', '\\nH&A\\n\\n\\n\\n', '\\nH&A\\n\\n\\n\\n', '\\nH&A\\n\\n\\n\\n', '\\nH&A\\n\\n\\n\\n', '\\nH&A\\n\\n\\n\\n', '\\nH&A\\n\\n\\n\\n', '\\nH&A\\n\\n\\n\\n']\n"
     ]
    }
   ],
   "source": [
    "print(ghmh)"
   ]
  },
  {
   "cell_type": "code",
   "execution_count": 145,
   "id": "610b4547",
   "metadata": {},
   "outputs": [
    {
     "data": {
      "text/plain": [
       "\"['\\\\nH&A\\\\n\\\\n\\\\n\\\\n', '\\\\nH&A\\\\n\\\\n\\\\n\\\\n', '\\\\nH&A\\\\n\\\\n\\\\n\\\\n', '\\\\nH&A\\\\n\\\\n\\\\n\\\\n', '\\\\nH&A\\\\n\\\\n\\\\n\\\\n', '\\\\nH&A\\\\n\\\\n\\\\n\\\\n', '\\\\nH&A\\\\n\\\\n\\\\n\\\\n', '\\\\nH&A\\\\n\\\\n\\\\n\\\\n', '\\\\nH&A\\\\n\\\\n\\\\n\\\\n', '\\\\nH&A\\\\n\\\\n\\\\n\\\\n', '\\\\nH&A\\\\n\\\\n\\\\n\\\\n', '\\\\nH&A\\\\n\\\\n\\\\n\\\\n', '\\\\nH&A\\\\n\\\\n\\\\n\\\\n', '\\\\nH&A\\\\n\\\\n\\\\n\\\\n', '\\\\nH&A\\\\n\\\\n\\\\n\\\\n', '\\\\nH&A\\\\n\\\\n\\\\n\\\\n', '\\\\nH&A\\\\n\\\\n\\\\n\\\\n', '\\\\nH&A\\\\n\\\\n\\\\n\\\\n', '\\\\nH&A\\\\n\\\\n\\\\n\\\\n', '\\\\nH&A\\\\n\\\\n\\\\n\\\\n']\""
      ]
     },
     "execution_count": 145,
     "metadata": {},
     "output_type": "execute_result"
    }
   ],
   "source": [
    "x = str(ghmh)\n",
    "x"
   ]
  },
  {
   "cell_type": "code",
   "execution_count": 124,
   "id": "8b8fed1e",
   "metadata": {
    "scrolled": true
   },
   "outputs": [
    {
     "ename": "AttributeError",
     "evalue": "'list' object has no attribute 'replace'",
     "output_type": "error",
     "traceback": [
      "\u001b[1;31m---------------------------------------------------------------------------\u001b[0m",
      "\u001b[1;31mAttributeError\u001b[0m                            Traceback (most recent call last)",
      "Input \u001b[1;32mIn [124]\u001b[0m, in \u001b[0;36m<cell line: 1>\u001b[1;34m()\u001b[0m\n\u001b[1;32m----> 1\u001b[0m \u001b[43mghmh\u001b[49m\u001b[38;5;241;43m.\u001b[39;49m\u001b[43mreplace\u001b[49m(\u001b[38;5;124m'\u001b[39m\u001b[38;5;130;01m\\n\u001b[39;00m\u001b[38;5;124m'\u001b[39m, \u001b[38;5;124m'\u001b[39m\u001b[38;5;124m'\u001b[39m)\n\u001b[0;32m      2\u001b[0m ghmh\n",
      "\u001b[1;31mAttributeError\u001b[0m: 'list' object has no attribute 'replace'"
     ]
    }
   ],
   "source": [
    "ghmh.replace('\\n', '')\n",
    "ghmh"
   ]
  },
  {
   "cell_type": "code",
   "execution_count": 153,
   "id": "5d706b74",
   "metadata": {},
   "outputs": [
    {
     "data": {
      "text/plain": [
       "[\"['\\\\n\",\n",
       " 'H&A\\\\',\n",
       " 'n\\\\n\\\\',\n",
       " \"n\\\\n'\",\n",
       " \" '\\\\n\",\n",
       " 'H&A\\\\',\n",
       " 'n\\\\n\\\\',\n",
       " \"n\\\\n'\",\n",
       " \" '\\\\n\",\n",
       " 'H&A\\\\',\n",
       " 'n\\\\n\\\\',\n",
       " \"n\\\\n'\",\n",
       " \" '\\\\n\",\n",
       " 'H&A\\\\',\n",
       " 'n\\\\n\\\\',\n",
       " \"n\\\\n'\",\n",
       " \" '\\\\n\",\n",
       " 'H&A\\\\',\n",
       " 'n\\\\n\\\\',\n",
       " \"n\\\\n'\",\n",
       " \" '\\\\n\",\n",
       " 'H&A\\\\',\n",
       " 'n\\\\n\\\\',\n",
       " \"n\\\\n'\",\n",
       " \" '\\\\n\",\n",
       " 'H&A\\\\',\n",
       " 'n\\\\n\\\\',\n",
       " \"n\\\\n'\",\n",
       " \" '\\\\n\",\n",
       " 'H&A\\\\',\n",
       " 'n\\\\n\\\\',\n",
       " \"n\\\\n'\",\n",
       " \" '\\\\n\",\n",
       " 'H&A\\\\',\n",
       " 'n\\\\n\\\\',\n",
       " \"n\\\\n'\",\n",
       " \" '\\\\n\",\n",
       " 'H&A\\\\',\n",
       " 'n\\\\n\\\\',\n",
       " \"n\\\\n'\",\n",
       " \" '\\\\n\",\n",
       " 'H&A\\\\',\n",
       " 'n\\\\n\\\\',\n",
       " \"n\\\\n'\",\n",
       " \" '\\\\n\",\n",
       " 'H&A\\\\',\n",
       " 'n\\\\n\\\\',\n",
       " \"n\\\\n'\",\n",
       " \" '\\\\n\",\n",
       " 'H&A\\\\',\n",
       " 'n\\\\n\\\\',\n",
       " \"n\\\\n'\",\n",
       " \" '\\\\n\",\n",
       " 'H&A\\\\',\n",
       " 'n\\\\n\\\\',\n",
       " \"n\\\\n'\",\n",
       " \" '\\\\n\",\n",
       " 'H&A\\\\',\n",
       " 'n\\\\n\\\\',\n",
       " \"n\\\\n'\",\n",
       " \" '\\\\n\",\n",
       " 'H&A\\\\',\n",
       " 'n\\\\n\\\\',\n",
       " \"n\\\\n'\",\n",
       " \" '\\\\n\",\n",
       " 'H&A\\\\',\n",
       " 'n\\\\n\\\\',\n",
       " \"n\\\\n'\",\n",
       " \" '\\\\n\",\n",
       " 'H&A\\\\',\n",
       " 'n\\\\n\\\\',\n",
       " \"n\\\\n'\",\n",
       " \" '\\\\n\",\n",
       " 'H&A\\\\',\n",
       " 'n\\\\n\\\\',\n",
       " \"n\\\\n'\",\n",
       " \" '\\\\n\",\n",
       " 'H&A\\\\',\n",
       " 'n\\\\n\\\\',\n",
       " \"n\\\\n'\"]"
      ]
     },
     "execution_count": 153,
     "metadata": {},
     "output_type": "execute_result"
    }
   ],
   "source": [
    "import re\n",
    "p = '.\\S\\S.'\n",
    "txt = re.findall(p,str(ghmh))\n",
    "txt"
   ]
  },
  {
   "cell_type": "code",
   "execution_count": 89,
   "id": "8e0b9bc3",
   "metadata": {
    "scrolled": true
   },
   "outputs": [
    {
     "name": "stdout",
     "output_type": "stream",
     "text": [
      "['可訂購\\t\\t\\t\\t\\t\\t\\t\\t\\t\\t    \\n\\n\\nGIA證書連結：6224158906\\xa0\\xa0\\xa0\\n\\n\\n含稅價格：NT53,147\\n\\n\\n\\n', '可訂購\\t\\t\\t\\t\\t\\t\\t\\t\\t\\t    \\n\\n\\nGIA證書連結：2225073060\\xa0\\xa0\\xa0\\n\\n\\n含稅價格：NT108,677\\n\\n\\n\\n', '可訂購\\t\\t\\t\\t\\t\\t\\t\\t\\t\\t    \\n\\n\\nGIA證書連結：5212837414\\xa0\\xa0\\xa0\\n\\n\\n含稅價格：NT267,836\\n\\n\\n\\n', '可訂購\\t\\t\\t\\t\\t\\t\\t\\t\\t\\t    \\n\\n\\nGIA證書連結：6224197742\\xa0\\xa0\\xa0\\n\\n\\n含稅價格：NT694,088\\n\\n\\n\\n', '可訂購\\t\\t\\t\\t\\t\\t\\t\\t\\t\\t    \\n\\n\\nGIA證書連結：6402769643\\xa0\\xa0\\xa0\\n\\n\\n含稅價格：NT745,502\\n\\n\\n\\n', '可訂購\\t\\t\\t\\t\\t\\t\\t\\t\\t\\t    \\n\\n\\nGIA證書連結：6213989450\\xa0\\xa0\\xa0\\n\\n\\n含稅價格：NT771,209\\n\\n\\n\\n', '需預購\\t\\t\\t\\t\\t\\t\\t\\t\\t\\t    \\n\\n\\nGIA證書連結：6224211101\\xa0\\xa0\\xa0\\n\\n\\n含稅價格：NT1,577,079\\n\\n\\n\\n', '可訂購\\t\\t\\t\\t\\t\\t\\t\\t\\t\\t    \\n\\n\\nGIA證書連結：2213134248\\xa0\\xa0\\xa0\\n\\n\\n含稅價格：NT2,660,672\\n\\n\\n\\n', '需預購\\t\\t\\t\\t\\t\\t\\t\\t\\t\\t    \\n\\n\\nGIA證書連結：2225245513\\xa0\\xa0\\xa0\\n\\n\\n含稅價格：NT3,299,548\\n\\n\\n\\n', '需預購\\t\\t\\t\\t\\t\\t\\t\\t\\t\\t    \\n\\n\\nGIA證書連結：2223543268\\xa0\\xa0\\xa0\\n\\n\\n含稅價格：NT5,878,206\\n\\n\\n\\n', '需預購\\t\\t\\t\\t\\t\\t\\t\\t\\t\\t    \\n\\n\\nGIA證書連結：2221031104\\xa0\\xa0\\xa0\\n\\n\\n含稅價格：NT6,955,325\\n\\n\\n\\n', '需預購\\t\\t\\t\\t\\t\\t\\t\\t\\t\\t    \\n\\n\\nGIA證書連結：6227374882\\xa0\\xa0\\xa0\\n\\n\\n含稅價格：NT9,678,177\\n\\n\\n\\n', '需預購\\t\\t\\t\\t\\t\\t\\t\\t\\t\\t    \\n\\n\\nGIA證書連結：2221341084\\xa0\\xa0\\xa0\\n\\n\\n含稅價格：NT15,360,377\\n\\n\\n\\n', '需預購\\t\\t\\t\\t\\t\\t\\t\\t\\t\\t    \\n\\n\\nGIA證書連結：1393725723\\xa0\\xa0\\xa0\\n\\n\\n含稅價格：NT18,078,908\\n\\n\\n\\n', '需預購\\t\\t\\t\\t\\t\\t\\t\\t\\t\\t    \\n\\n\\nGIA證書連結：2223156971\\xa0\\xa0\\xa0\\n\\n\\n含稅價格：NT31,457,301\\n\\n\\n\\n', '需預購\\t\\t\\t\\t\\t\\t\\t\\t\\t\\t    \\n\\n\\nGIA證書連結：2211866644\\xa0\\xa0\\xa0\\n\\n\\n含稅價格：NT75,189,090\\n\\n\\n\\n', '需預購\\t\\t\\t\\t\\t\\t\\t\\t\\t\\t    \\n\\n\\nGIA證書連結：2225414802\\xa0\\xa0\\xa0\\n\\n\\n含稅價格：NT104,243,616\\n\\n\\n\\n', '可訂購\\t\\t\\t\\t\\t\\t\\t\\t\\t\\t    \\n\\n\\nGIA證書連結：3425253301\\xa0\\xa0\\xa0\\n\\n\\n含稅價格：NT27,881\\n\\n\\n\\n', '可訂購\\t\\t\\t\\t\\t\\t\\t\\t\\t\\t    \\n\\n\\nGIA證書連結：2424990333\\xa0\\xa0\\xa0\\n\\n\\n含稅價格：NT27,881\\n\\n\\n\\n', '可訂購\\t\\t\\t\\t\\t\\t\\t\\t\\t\\t    \\n\\n\\nGIA證書連結：6415986815\\xa0\\xa0\\xa0\\n\\n\\n含稅價格：NT27,881\\n\\n\\n\\n']\n"
     ]
    }
   ],
   "source": [
    "print(gstate)"
   ]
  },
  {
   "cell_type": "code",
   "execution_count": 3,
   "id": "19560ea3",
   "metadata": {},
   "outputs": [],
   "source": [
    "a = ['', '6224158906', '0.40', 'D', 'FL', '61.6', '58', '\\nEX\\n\\n\\nEX - EXCELLENT\\nVG - VERY GOOD\\nG - GOOD\\n\\n\\n', '\\nEX\\n\\n\\nEX - EXCELLENT\\nVG - VERY GOOD\\nG - GOOD\\n\\n\\n', '\\nEX\\n\\n\\nEX - EXCELLENT\\nVG - VERY GOOD\\nG - GOOD\\n\\n\\n', 'NONE', '\\nH&A\\n\\n\\n\\n', '50,422', '可訂購\\t\\t\\t\\t\\t\\t\\t\\t\\t\\t    \\n\\n\\nGIA證書連結：6224158906\\xa0\\xa0\\xa0\\n\\n\\n含稅價格：NT52,943\\n\\n\\n\\n', '\\n\\n\\n\\n\\n', '']"
   ]
  },
  {
   "cell_type": "code",
   "execution_count": 100,
   "id": "6247550a",
   "metadata": {},
   "outputs": [],
   "source": [
    "import pandas as pd\n",
    "\n",
    "d = {'gcarat':gcarat, 'gcolor':gcolor, 'gclarity':gclarity, 'gdmh':gdmh, 'gtmh':gtmh, 'gcmh':gcmh, 'gpmh':gpmh, 'gsmh':gsmh, 'gfmh':gfmh}\n",
    "df = pd.DataFrame(d)\n",
    "df.to_csv('dimond_test.csv',index=None)"
   ]
  },
  {
   "cell_type": "code",
   "execution_count": 91,
   "id": "4a54a1ef",
   "metadata": {},
   "outputs": [
    {
     "data": {
      "text/html": [
       "<div>\n",
       "<style scoped>\n",
       "    .dataframe tbody tr th:only-of-type {\n",
       "        vertical-align: middle;\n",
       "    }\n",
       "\n",
       "    .dataframe tbody tr th {\n",
       "        vertical-align: top;\n",
       "    }\n",
       "\n",
       "    .dataframe thead th {\n",
       "        text-align: right;\n",
       "    }\n",
       "</style>\n",
       "<table border=\"1\" class=\"dataframe\">\n",
       "  <thead>\n",
       "    <tr style=\"text-align: right;\">\n",
       "      <th></th>\n",
       "      <th>0</th>\n",
       "    </tr>\n",
       "  </thead>\n",
       "  <tbody>\n",
       "    <tr>\n",
       "      <th>0</th>\n",
       "      <td>0.40</td>\n",
       "    </tr>\n",
       "    <tr>\n",
       "      <th>1</th>\n",
       "      <td>0.55</td>\n",
       "    </tr>\n",
       "    <tr>\n",
       "      <th>2</th>\n",
       "      <td>0.85</td>\n",
       "    </tr>\n",
       "    <tr>\n",
       "      <th>3</th>\n",
       "      <td>1.08</td>\n",
       "    </tr>\n",
       "    <tr>\n",
       "      <th>4</th>\n",
       "      <td>1.16</td>\n",
       "    </tr>\n",
       "    <tr>\n",
       "      <th>5</th>\n",
       "      <td>1.20</td>\n",
       "    </tr>\n",
       "    <tr>\n",
       "      <th>6</th>\n",
       "      <td>1.82</td>\n",
       "    </tr>\n",
       "    <tr>\n",
       "      <th>7</th>\n",
       "      <td>2.07</td>\n",
       "    </tr>\n",
       "    <tr>\n",
       "      <th>8</th>\n",
       "      <td>2.51</td>\n",
       "    </tr>\n",
       "    <tr>\n",
       "      <th>9</th>\n",
       "      <td>3.12</td>\n",
       "    </tr>\n",
       "    <tr>\n",
       "      <th>10</th>\n",
       "      <td>3.52</td>\n",
       "    </tr>\n",
       "    <tr>\n",
       "      <th>11</th>\n",
       "      <td>4.34</td>\n",
       "    </tr>\n",
       "    <tr>\n",
       "      <th>12</th>\n",
       "      <td>5.27</td>\n",
       "    </tr>\n",
       "    <tr>\n",
       "      <th>13</th>\n",
       "      <td>6.12</td>\n",
       "    </tr>\n",
       "    <tr>\n",
       "      <th>14</th>\n",
       "      <td>9.18</td>\n",
       "    </tr>\n",
       "    <tr>\n",
       "      <th>15</th>\n",
       "      <td>17.44</td>\n",
       "    </tr>\n",
       "    <tr>\n",
       "      <th>16</th>\n",
       "      <td>24.88</td>\n",
       "    </tr>\n",
       "    <tr>\n",
       "      <th>17</th>\n",
       "      <td>0.30</td>\n",
       "    </tr>\n",
       "    <tr>\n",
       "      <th>18</th>\n",
       "      <td>0.30</td>\n",
       "    </tr>\n",
       "    <tr>\n",
       "      <th>19</th>\n",
       "      <td>0.30</td>\n",
       "    </tr>\n",
       "  </tbody>\n",
       "</table>\n",
       "</div>"
      ],
      "text/plain": [
       "        0\n",
       "0    0.40\n",
       "1    0.55\n",
       "2    0.85\n",
       "3    1.08\n",
       "4    1.16\n",
       "5    1.20\n",
       "6    1.82\n",
       "7    2.07\n",
       "8    2.51\n",
       "9    3.12\n",
       "10   3.52\n",
       "11   4.34\n",
       "12   5.27\n",
       "13   6.12\n",
       "14   9.18\n",
       "15  17.44\n",
       "16  24.88\n",
       "17   0.30\n",
       "18   0.30\n",
       "19   0.30"
      ]
     },
     "execution_count": 91,
     "metadata": {},
     "output_type": "execute_result"
    }
   ],
   "source": [
    "df"
   ]
  },
  {
   "cell_type": "code",
   "execution_count": 2,
   "id": "db67ee81",
   "metadata": {},
   "outputs": [
    {
     "name": "stdout",
     "output_type": "stream",
     "text": [
      "['', '6224158906', '0.40', 'D', 'FL', '61.6', '58', '\\nEX\\n\\n\\nEX - EXCELLENT\\nVG - VERY GOOD\\nG - GOOD\\n\\n\\n', '\\nEX\\n\\n\\nEX - EXCELLENT\\nVG - VERY GOOD\\nG - GOOD\\n\\n\\n', '\\nEX\\n\\n\\nEX - EXCELLENT\\nVG - VERY GOOD\\nG - GOOD\\n\\n\\n', 'NONE', '\\nH&A\\n\\n\\n\\n', '50,422', '可訂購\\t\\t\\t\\t\\t\\t\\t\\t\\t\\t    \\n\\n\\nGIA證書連結：6224158906\\xa0\\xa0\\xa0\\n\\n\\n含稅價格：NT52,943\\n\\n\\n\\n', '\\n\\n\\n\\n\\n', '', '2225073060', '0.55', 'D', 'FL', '62.4', '57', '\\nEX\\n\\n\\nEX - EXCELLENT\\nVG - VERY GOOD\\nG - GOOD\\n\\n\\n', '\\nEX\\n\\n\\nEX - EXCELLENT\\nVG - VERY GOOD\\nG - GOOD\\n\\n\\n', '\\nEX\\n\\n\\nEX - EXCELLENT\\nVG - VERY GOOD\\nG - GOOD\\n\\n\\n', 'NONE', '\\nH&A\\n\\n\\n\\n', '103,105', '可訂購\\t\\t\\t\\t\\t\\t\\t\\t\\t\\t    \\n\\n\\nGIA證書連結：2225073060\\xa0\\xa0\\xa0\\n\\n\\n含稅價格：NT108,260\\n\\n\\n\\n', '\\n\\n\\n\\n\\n', '', '5212837414', '0.85', 'D', 'FL', '62.3', '57', '\\nEX\\n\\n\\nEX - EXCELLENT\\nVG - VERY GOOD\\nG - GOOD\\n\\n\\n', '\\nEX\\n\\n\\nEX - EXCELLENT\\nVG - VERY GOOD\\nG - GOOD\\n\\n\\n', '\\nEX\\n\\n\\nEX - EXCELLENT\\nVG - VERY GOOD\\nG - GOOD\\n\\n\\n', 'NONE', '\\nH&A\\n\\n\\n\\n', '254,102', '可訂購\\t\\t\\t\\t\\t\\t\\t\\t\\t\\t    \\n\\n\\nGIA證書連結：5212837414\\xa0\\xa0\\xa0\\n\\n\\n含稅價格：NT266,807\\n\\n\\n\\n', '\\n\\n\\n\\n\\n', '', '6224197742', '1.08', 'D', 'FL', '60.4', '58', '\\nEX\\n\\n\\nEX - EXCELLENT\\nVG - VERY GOOD\\nG - GOOD\\n\\n\\n', '\\nEX\\n\\n\\nEX - EXCELLENT\\nVG - VERY GOOD\\nG - GOOD\\n\\n\\n', '\\nEX\\n\\n\\nEX - EXCELLENT\\nVG - VERY GOOD\\nG - GOOD\\n\\n\\n', 'NONE', '\\nH&A\\n\\n\\n\\n', '658,499', '可訂購\\t\\t\\t\\t\\t\\t\\t\\t\\t\\t    \\n\\n\\nGIA證書連結：6224197742\\xa0\\xa0\\xa0\\n\\n\\n含稅價格：NT691,424\\n\\n\\n\\n', '\\n\\n\\n\\n\\n', '', '6402769643', '1.16', 'D', 'FL', '62.7', '57', '\\nEX\\n\\n\\nEX - EXCELLENT\\nVG - VERY GOOD\\nG - GOOD\\n\\n\\n', '\\nEX\\n\\n\\nEX - EXCELLENT\\nVG - VERY GOOD\\nG - GOOD\\n\\n\\n', '\\nEX\\n\\n\\nEX - EXCELLENT\\nVG - VERY GOOD\\nG - GOOD\\n\\n\\n', 'NONE', '\\nH&A\\n\\n\\n\\n', '707,277', '可訂購\\t\\t\\t\\t\\t\\t\\t\\t\\t\\t    \\n\\n\\nGIA證書連結：6402769643\\xa0\\xa0\\xa0\\n\\n\\n含稅價格：NT742,641\\n\\n\\n\\n', '\\n\\n\\n\\n\\n', '', '6213989450', '1.20', 'D', 'FL', '61.6', '57', '\\nEX\\n\\n\\nEX - EXCELLENT\\nVG - VERY GOOD\\nG - GOOD\\n\\n\\n', '\\nEX\\n\\n\\nEX - EXCELLENT\\nVG - VERY GOOD\\nG - GOOD\\n\\n\\n', '\\nEX\\n\\n\\nEX - EXCELLENT\\nVG - VERY GOOD\\nG - GOOD\\n\\n\\n', 'NONE', '\\nH&A\\n\\n\\n\\n', '731,665', '可訂購\\t\\t\\t\\t\\t\\t\\t\\t\\t\\t    \\n\\n\\nGIA證書連結：6213989450\\xa0\\xa0\\xa0\\n\\n\\n含稅價格：NT768,248\\n\\n\\n\\n', '\\n\\n\\n\\n\\n', '', '6224211101', '1.82', 'D', 'FL', '62.5', '56', '\\nEX\\n\\n\\nEX - EXCELLENT\\nVG - VERY GOOD\\nG - GOOD\\n\\n\\n', '\\nEX\\n\\n\\nEX - EXCELLENT\\nVG - VERY GOOD\\nG - GOOD\\n\\n\\n', '\\nEX\\n\\n\\nEX - EXCELLENT\\nVG - VERY GOOD\\nG - GOOD\\n\\n\\n', 'NONE', '\\nH&A\\n\\n\\n\\n', '1,496,215', '需預購\\t\\t\\t\\t\\t\\t\\t\\t\\t\\t    \\n\\n\\nGIA證書連結：6224211101\\xa0\\xa0\\xa0\\n\\n\\n含稅價格：NT1,571,026\\n\\n\\n\\n', '\\n\\n\\n\\n\\n', '', '2213134248', '2.07', 'D', 'FL', '62.4', '57', '\\nEX\\n\\n\\nEX - EXCELLENT\\nVG - VERY GOOD\\nG - GOOD\\n\\n\\n', '\\nEX\\n\\n\\nEX - EXCELLENT\\nVG - VERY GOOD\\nG - GOOD\\n\\n\\n', '\\nEX\\n\\n\\nEX - EXCELLENT\\nVG - VERY GOOD\\nG - GOOD\\n\\n\\n', 'NONE', '\\nH&A\\n\\n\\n\\n', '2,524,246', '可訂購\\t\\t\\t\\t\\t\\t\\t\\t\\t\\t    \\n\\n\\nGIA證書連結：2213134248\\xa0\\xa0\\xa0\\n\\n\\n含稅價格：NT2,650,458\\n\\n\\n\\n', '\\n\\n\\n\\n\\n', '', '2225245513', '2.51', 'D', 'FL', '61.8', '58', '\\nEX\\n\\n\\nEX - EXCELLENT\\nVG - VERY GOOD\\nG - GOOD\\n\\n\\n', '\\nEX\\n\\n\\nEX - EXCELLENT\\nVG - VERY GOOD\\nG - GOOD\\n\\n\\n', '\\nEX\\n\\n\\nEX - EXCELLENT\\nVG - VERY GOOD\\nG - GOOD\\n\\n\\n', 'NONE', '\\nH&A\\n\\n\\n\\n', '3,130,364', '需預購\\t\\t\\t\\t\\t\\t\\t\\t\\t\\t    \\n\\n\\nGIA證書連結：2225245513\\xa0\\xa0\\xa0\\n\\n\\n含稅價格：NT3,286,882\\n\\n\\n\\n', '\\n\\n\\n\\n\\n', '', '2223543268', '3.12', 'D', 'FL', '61.7', '58', '\\nEX\\n\\n\\nEX - EXCELLENT\\nVG - VERY GOOD\\nG - GOOD\\n\\n\\n', '\\nEX\\n\\n\\nEX - EXCELLENT\\nVG - VERY GOOD\\nG - GOOD\\n\\n\\n', '\\nEX\\n\\n\\nEX - EXCELLENT\\nVG - VERY GOOD\\nG - GOOD\\n\\n\\n', 'NONE', '\\nH&A\\n\\n\\n\\n', '5,576,800', '需預購\\t\\t\\t\\t\\t\\t\\t\\t\\t\\t    \\n\\n\\nGIA證書連結：2223543268\\xa0\\xa0\\xa0\\n\\n\\n含稅價格：NT5,855,640\\n\\n\\n\\n', '\\n\\n\\n\\n\\n', '', '2221031104', '3.52', 'D', 'FL', '61.9', '57', '\\nEX\\n\\n\\nEX - EXCELLENT\\nVG - VERY GOOD\\nG - GOOD\\n\\n\\n', '\\nEX\\n\\n\\nEX - EXCELLENT\\nVG - VERY GOOD\\nG - GOOD\\n\\n\\n', '\\nEX\\n\\n\\nEX - EXCELLENT\\nVG - VERY GOOD\\nG - GOOD\\n\\n\\n', 'NONE', '\\nH&A\\n\\n\\n\\n', '6,598,691', '需預購\\t\\t\\t\\t\\t\\t\\t\\t\\t\\t    \\n\\n\\nGIA證書連結：2221031104\\xa0\\xa0\\xa0\\n\\n\\n含稅價格：NT6,928,626\\n\\n\\n\\n', '\\n\\n\\n\\n\\n', '', '6227374882', '4.34', 'D', 'FL', '59.6', '58', '\\nEX\\n\\n\\nEX - EXCELLENT\\nVG - VERY GOOD\\nG - GOOD\\n\\n\\n', '\\nEX\\n\\n\\nEX - EXCELLENT\\nVG - VERY GOOD\\nG - GOOD\\n\\n\\n', '\\nEX\\n\\n\\nEX - EXCELLENT\\nVG - VERY GOOD\\nG - GOOD\\n\\n\\n', 'NONE', '\\nH&A\\n\\n\\n\\n', '9,181,928', '需預購\\t\\t\\t\\t\\t\\t\\t\\t\\t\\t    \\n\\n\\nGIA證書連結：6227374882\\xa0\\xa0\\xa0\\n\\n\\n含稅價格：NT9,641,024\\n\\n\\n\\n', '\\n\\n\\n\\n\\n', '', '2221341084', '5.27', 'D', 'FL', '61.5', '58', '\\nEX\\n\\n\\nEX - EXCELLENT\\nVG - VERY GOOD\\nG - GOOD\\n\\n\\n', '\\nEX\\n\\n\\nEX - EXCELLENT\\nVG - VERY GOOD\\nG - GOOD\\n\\n\\n', '\\nEX\\n\\n\\nEX - EXCELLENT\\nVG - VERY GOOD\\nG - GOOD\\n\\n\\n', 'NONE', '\\nH&A\\n\\n\\n\\n', '14,572,773', '需預購\\t\\t\\t\\t\\t\\t\\t\\t\\t\\t    \\n\\n\\nGIA證書連結：2221341084\\xa0\\xa0\\xa0\\n\\n\\n含稅價格：NT15,301,412\\n\\n\\n\\n', '\\n\\n\\n\\n\\n', '', '1393725723', '6.12', 'D', 'FL', '62.6', '57', '\\nEX\\n\\n\\nEX - EXCELLENT\\nVG - VERY GOOD\\nG - GOOD\\n\\n\\n', '\\nEX\\n\\n\\nEX - EXCELLENT\\nVG - VERY GOOD\\nG - GOOD\\n\\n\\n', '\\nEX\\n\\n\\nEX - EXCELLENT\\nVG - VERY GOOD\\nG - GOOD\\n\\n\\n', 'NONE', '\\nH&A\\n\\n\\n\\n', '17,151,912', '需預購\\t\\t\\t\\t\\t\\t\\t\\t\\t\\t    \\n\\n\\nGIA證書連結：1393725723\\xa0\\xa0\\xa0\\n\\n\\n含稅價格：NT18,009,508\\n\\n\\n\\n', '\\n\\n\\n\\n\\n', '', '2223156971', '9.18', 'D', 'FL', '61.1', '57', '\\nEX\\n\\n\\nEX - EXCELLENT\\nVG - VERY GOOD\\nG - GOOD\\n\\n\\n', '\\nEX\\n\\n\\nEX - EXCELLENT\\nVG - VERY GOOD\\nG - GOOD\\n\\n\\n', '\\nEX\\n\\n\\nEX - EXCELLENT\\nVG - VERY GOOD\\nG - GOOD\\n\\n\\n', 'NONE', '\\nH&A\\n\\n\\n\\n', '29,844,327', '需預購\\t\\t\\t\\t\\t\\t\\t\\t\\t\\t    \\n\\n\\nGIA證書連結：2223156971\\xa0\\xa0\\xa0\\n\\n\\n含稅價格：NT31,336,543\\n\\n\\n\\n', '\\n\\n\\n\\n\\n', '', '2211866644', '17.44', 'D', 'FL', '61.3', '57', '\\nEX\\n\\n\\nEX - EXCELLENT\\nVG - VERY GOOD\\nG - GOOD\\n\\n\\n', '\\nEX\\n\\n\\nEX - EXCELLENT\\nVG - VERY GOOD\\nG - GOOD\\n\\n\\n', '\\nEX\\n\\n\\nEX - EXCELLENT\\nVG - VERY GOOD\\nG - GOOD\\n\\n\\n', 'NONE', '\\nH&A\\n\\n\\n\\n', '71,333,768', '需預購\\t\\t\\t\\t\\t\\t\\t\\t\\t\\t    \\n\\n\\nGIA證書連結：2211866644\\xa0\\xa0\\xa0\\n\\n\\n含稅價格：NT74,900,456\\n\\n\\n\\n', '\\n\\n\\n\\n\\n', '', '2225414802', '24.88', 'D', 'FL', '61.6', '57', '\\nEX\\n\\n\\nEX - EXCELLENT\\nVG - VERY GOOD\\nG - GOOD\\n\\n\\n', '\\nEX\\n\\n\\nEX - EXCELLENT\\nVG - VERY GOOD\\nG - GOOD\\n\\n\\n', '\\nEX\\n\\n\\nEX - EXCELLENT\\nVG - VERY GOOD\\nG - GOOD\\n\\n\\n', 'NONE', '\\nH&A\\n\\n\\n\\n', '98,898,522', '需預購\\t\\t\\t\\t\\t\\t\\t\\t\\t\\t    \\n\\n\\nGIA證書連結：2225414802\\xa0\\xa0\\xa0\\n\\n\\n含稅價格：NT103,843,448\\n\\n\\n\\n', '\\n\\n\\n\\n\\n', '', '3425253301', '0.30', 'D', 'IF', '60.8', '58', '\\nEX\\n\\n\\nEX - EXCELLENT\\nVG - VERY GOOD\\nG - GOOD\\n\\n\\n', '\\nEX\\n\\n\\nEX - EXCELLENT\\nVG - VERY GOOD\\nG - GOOD\\n\\n\\n', '\\nEX\\n\\n\\nEX - EXCELLENT\\nVG - VERY GOOD\\nG - GOOD\\n\\n\\n', 'NONE', '\\nH&A\\n\\n\\n\\n', '26,451', '可訂購\\t\\t\\t\\t\\t\\t\\t\\t\\t\\t    \\n\\n\\nGIA證書連結：3425253301\\xa0\\xa0\\xa0\\n\\n\\n含稅價格：NT27,774\\n\\n\\n\\n', '\\n\\n\\n\\n\\n', '', '2424990333', '0.30', 'D', 'IF', '62.1', '55', '\\nEX\\n\\n\\nEX - EXCELLENT\\nVG - VERY GOOD\\nG - GOOD\\n\\n\\n', '\\nEX\\n\\n\\nEX - EXCELLENT\\nVG - VERY GOOD\\nG - GOOD\\n\\n\\n', '\\nEX\\n\\n\\nEX - EXCELLENT\\nVG - VERY GOOD\\nG - GOOD\\n\\n\\n', 'NONE', '\\nH&A\\n\\n\\n\\n', '26,451', '可訂購\\t\\t\\t\\t\\t\\t\\t\\t\\t\\t    \\n\\n\\nGIA證書連結：2424990333\\xa0\\xa0\\xa0\\n\\n\\n含稅價格：NT27,774\\n\\n\\n\\n', '\\n\\n\\n\\n\\n', '', '6415986815', '0.30', 'D', 'IF', '61.9', '57', '\\nEX\\n\\n\\nEX - EXCELLENT\\nVG - VERY GOOD\\nG - GOOD\\n\\n\\n', '\\nEX\\n\\n\\nEX - EXCELLENT\\nVG - VERY GOOD\\nG - GOOD\\n\\n\\n', '\\nEX\\n\\n\\nEX - EXCELLENT\\nVG - VERY GOOD\\nG - GOOD\\n\\n\\n', 'NONE', '\\nH&A\\n\\n\\n\\n', '26,451', '可訂購\\t\\t\\t\\t\\t\\t\\t\\t\\t\\t    \\n\\n\\nGIA證書連結：6415986815\\xa0\\xa0\\xa0\\n\\n\\n含稅價格：NT27,774\\n\\n\\n\\n', '\\n\\n\\n\\n\\n']\n"
     ]
    }
   ],
   "source": [
    "info_items = soup.select('tbody.list td')\n",
    "dinfo = []\n",
    "for s in info_items:\n",
    "    dinfo.append(s.text)\n",
    "print(dinfo)\n",
    "#     print(s.text)\n",
    "# gno = info_items.select('td.gia-no')\n",
    "# for item in info_items:\n",
    "#     print(gno.text)\n",
    "#     gcarat = item.find('td', 'gia-carat').text\n",
    "#     gcolor = item.find('td', 'gia-color').text\n",
    "#     gclarity = item.find('td', 'gia-clarity').text\n",
    "#     gdmh = item.find('td', 'gia-depth m-hide').text\n",
    "#     gtmh = item.find('td', 'gia-table m-hide').text\n",
    "#     gcmh = item.find('td', 'gia-cut m-hide').a.text\n",
    "#     gpmh = item.find('td', 'gia-polish m-hide').a.text\n",
    "#     gsmh = item.find('td', 'gia-sym m-hide').a.text\n",
    "#     gfmh = item.find('td', 'gia-flourescence m-hide').text\n",
    "#     ghmh = item.find('td', 'gia-heart m-hide').a.text\n",
    "#     gprice = item.find('td', 'gia-price').text\n",
    "#     gstate = item.find('td', 'gia-state m-hide').text\n",
    "#     ditem.append(gcarat)\n",
    "#     print(ditem)\n",
    "#     print('克拉{},顏色{},淨度{},深度{},桌面{},拋光{},對稱{},車工{},螢光{},八心八箭{},狀態{}'.format(gcarat,gcolor,gclarity,gdmh,gtmh,gcmh,gpmh,gsmh,gfmh,ghmh,gstate))\n",
    "# print(info_items)"
   ]
  },
  {
   "cell_type": "code",
   "execution_count": null,
   "id": "8172c832",
   "metadata": {
    "collapsed": true
   },
   "outputs": [],
   "source": []
  }
 ],
 "metadata": {
  "kernelspec": {
   "display_name": "Python 3 (ipykernel)",
   "language": "python",
   "name": "python3"
  },
  "language_info": {
   "codemirror_mode": {
    "name": "ipython",
    "version": 3
   },
   "file_extension": ".py",
   "mimetype": "text/x-python",
   "name": "python",
   "nbconvert_exporter": "python",
   "pygments_lexer": "ipython3",
   "version": "3.9.13"
  }
 },
 "nbformat": 4,
 "nbformat_minor": 5
}
