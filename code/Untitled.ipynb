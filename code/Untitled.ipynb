{
 "cells": [
  {
   "cell_type": "code",
   "execution_count": 1,
   "id": "526f745c",
   "metadata": {},
   "outputs": [
    {
     "ename": "NameError",
     "evalue": "name 'app' is not defined",
     "output_type": "error",
     "traceback": [
      "\u001b[1;31m---------------------------------------------------------------------------\u001b[0m",
      "\u001b[1;31mNameError\u001b[0m                                 Traceback (most recent call last)",
      "Cell \u001b[1;32mIn [1], line 4\u001b[0m\n\u001b[0;32m      1\u001b[0m \u001b[38;5;28;01mfrom\u001b[39;00m \u001b[38;5;21;01mflask_login\u001b[39;00m \u001b[38;5;28;01mimport\u001b[39;00m LoginManager\n\u001b[0;32m      3\u001b[0m login_manager \u001b[38;5;241m=\u001b[39m LoginManager()\n\u001b[1;32m----> 4\u001b[0m login_manager\u001b[38;5;241m.\u001b[39minit_app(\u001b[43mapp\u001b[49m)\n\u001b[0;32m      5\u001b[0m login_manager\u001b[38;5;241m.\u001b[39mlogin_view \u001b[38;5;241m=\u001b[39m \u001b[38;5;124m'\u001b[39m\u001b[38;5;124mlogin\u001b[39m\u001b[38;5;124m'\u001b[39m\n",
      "\u001b[1;31mNameError\u001b[0m: name 'app' is not defined"
     ]
    }
   ],
   "source": [
    "from flask_login import LoginManager\n",
    "\n",
    "login_manager = LoginManager()\n",
    "login_manager.init_app(app)\n",
    "login_manager.login_view = 'login'"
   ]
  },
  {
   "cell_type": "code",
   "execution_count": null,
   "id": "207aab31",
   "metadata": {},
   "outputs": [],
   "source": []
  }
 ],
 "metadata": {
  "kernelspec": {
   "display_name": "Python 3 (ipykernel)",
   "language": "python",
   "name": "python3"
  },
  "language_info": {
   "codemirror_mode": {
    "name": "ipython",
    "version": 3
   },
   "file_extension": ".py",
   "mimetype": "text/x-python",
   "name": "python",
   "nbconvert_exporter": "python",
   "pygments_lexer": "ipython3",
   "version": "3.9.15"
  }
 },
 "nbformat": 4,
 "nbformat_minor": 5
}
